{
 "cells": [
  {
   "cell_type": "markdown",
   "metadata": {},
   "source": [
    "Importamos Pytorch"
   ]
  },
  {
   "cell_type": "code",
   "execution_count": 1,
   "metadata": {},
   "outputs": [],
   "source": [
    "import torch\n",
    "from torchvision import datasets, transforms\n",
    "from torch.utils.data import DataLoader"
   ]
  },
  {
   "cell_type": "markdown",
   "metadata": {},
   "source": [
    "Transformamos las imágenes "
   ]
  },
  {
   "cell_type": "code",
   "execution_count": 2,
   "metadata": {},
   "outputs": [],
   "source": [
    "transform = transforms.Compose([\n",
    "    transforms.Resize((512, 512)),  # Redimensiona todas las imágenes a 512x512\n",
    "    transforms.ToTensor(),  # Convertimos imágenes a Tensores\n",
    "    transforms.Normalize((0.5,), (0.5,))  # Normalizamos con media 0.5 y desviación estándar 0.5\n",
    "])"
   ]
  },
  {
   "cell_type": "markdown",
   "metadata": {},
   "source": [
    "Obtenemos los datos de tumor cerebral (hay tres categorías de tumor y otra categoría de no tumor). Las imágenes son de 512x512 píxeles"
   ]
  },
  {
   "cell_type": "code",
   "execution_count": 3,
   "metadata": {},
   "outputs": [],
   "source": [
    "# Cargamos el dataset\n",
    "path_train = r\"C:\\Users\\34620\\Desktop\\ULPGC\\Master\\Primer semestre\\Computacion Inteligente\\TumorCerebralDatabase\\Training\" \n",
    "path_test = r\"C:\\Users\\34620\\Desktop\\ULPGC\\Master\\Primer semestre\\Computacion Inteligente\\TumorCerebralDatabase\\Testing\"\n",
    "train_data = datasets.ImageFolder(root=path_train, transform=transform)\n",
    "test_data = datasets.ImageFolder(root=path_test, transform=transform)\n",
    "\n",
    "# DataLoader para los conjuntos de entrenamiento y prueba\n",
    "train_loader = DataLoader(train_data, batch_size=64, shuffle=True)\n",
    "test_loader = DataLoader(test_data, batch_size=64, shuffle=False)"
   ]
  },
  {
   "cell_type": "markdown",
   "metadata": {},
   "source": [
    "Redes neuronales"
   ]
  },
  {
   "cell_type": "code",
   "execution_count": null,
   "metadata": {},
   "outputs": [],
   "source": [
    "import torch\n",
    "import torch.nn as nn\n",
    "import torch.nn.functional as F\n",
    "\n",
    "class ConvNet(nn.Module):\n",
    "    def __init__(self):\n",
    "        super(ConvNet, self).__init__()\n",
    "        # Tamaño de la imagen de entrada: 3x512x512\n",
    "\n",
    "        # Capas convolucionales\n",
    "        self.conv1 = nn.Conv2d(3, 32, kernel_size=5, stride=1, padding=2)   # Entrada: 3 canales, Salida: 32 canales\n",
    "        self.pool = nn.MaxPool2d(kernel_size=2, stride=2, padding=0)        # Max pooling con un kernel de 2x2\n",
    "        self.conv2 = nn.Conv2d(32, 64, kernel_size=5, stride=1, padding=2)  # Entrada: 32 canales, Salida: 64 canales\n",
    "        self.conv3 = nn.Conv2d(64, 128, kernel_size=3, stride=1, padding=1) # Entrada: 64 canales, Salida: 128 canales\n",
    "        self.conv4 = nn.Conv2d(128, 256, kernel_size=3, stride=1, padding=1) # Entrada: 128 canales, Salida: 256 canales\n",
    "        \n",
    "        # Capas fully connected\n",
    "        self.fc1 = nn.Linear(256 * 32 * 32, 512) # Aplanar a 32x32 para la primera capa fully connected\n",
    "        self.fc2 = nn.Linear(512, 256)\n",
    "        self.fc3 = nn.Linear(256, 128)\n",
    "        self.fc4 = nn.Linear(128, 4) # 4 clases de salida         \n",
    "\n",
    "    def forward(self, x): \n",
    "        x = self.pool(F.relu(self.conv1(x)))\n",
    "        x = self.pool(F.relu(self.conv2(x)))\n",
    "        x = self.pool(F.relu(self.conv3(x)))\n",
    "        x = self.pool(F.relu(self.conv4(x)))\n",
    "        \n",
    "        # Aplanamos para la capa lineal\n",
    "        x = x.view(-1, 256 * 32 * 32)  \n",
    "        x = F.relu(self.fc1(x)) \n",
    "        x = F.relu(self.fc2(x))\n",
    "        x = F.relu(self.fc3(x))\n",
    "        x = self.fc4(x)  # Capa de salida\n",
    "        \n",
    "        return x\n"
   ]
  },
  {
   "cell_type": "code",
   "execution_count": 5,
   "metadata": {},
   "outputs": [],
   "source": [
    "import torch.optim as optim\n",
    "\n",
    "model = ConvNet()\n",
    "criterion = nn.CrossEntropyLoss()\n",
    "optimizer = optim.Adam(model.parameters(), lr=0.001)"
   ]
  },
  {
   "cell_type": "code",
   "execution_count": null,
   "metadata": {},
   "outputs": [
    {
     "name": "stdout",
     "output_type": "stream",
     "text": [
      "Epoch 1, Loss: 0.717665958073404\n",
      "Epoch 2, Loss: 0.3360781949427393\n",
      "Epoch 3, Loss: 0.15339633321596516\n",
      "Epoch 4, Loss: 0.1013386271842238\n",
      "Epoch 5, Loss: 0.054086835586672856\n"
     ]
    }
   ],
   "source": [
    "\n",
    "# Entrenamiento\n",
    "epochs = 5\n",
    "for epoch in range(epochs):\n",
    "    running_loss = 0.0\n",
    "    for images, labels in train_loader:\n",
    "        optimizer.zero_grad()  # Limpiamos los gradientes\n",
    "        outputs = model(images)  # Pasamos las imágenes por la red\n",
    "        loss = criterion(outputs, labels)  # Calculamos la pérdida\n",
    "        loss.backward()  # Backpropagation\n",
    "        optimizer.step()  # Actualizamos los pesos\n",
    "        \n",
    "        running_loss += loss.item()\n",
    "    print(f'Epoch {epoch+1}, Loss: {running_loss/len(train_loader)}')"
   ]
  },
  {
   "cell_type": "markdown",
   "metadata": {},
   "source": [
    "Guardamos el modelo entrenado"
   ]
  },
  {
   "cell_type": "code",
   "execution_count": 68,
   "metadata": {},
   "outputs": [],
   "source": [
    "torch.save(model.state_dict(), 'modelo_entrenado.pth')"
   ]
  },
  {
   "cell_type": "markdown",
   "metadata": {},
   "source": [
    "Modelo entrenado guardado"
   ]
  },
  {
   "cell_type": "code",
   "execution_count": 14,
   "metadata": {},
   "outputs": [
    {
     "name": "stderr",
     "output_type": "stream",
     "text": [
      "C:\\Users\\34620\\AppData\\Local\\Temp\\ipykernel_11660\\3172320796.py:6: FutureWarning: You are using `torch.load` with `weights_only=False` (the current default value), which uses the default pickle module implicitly. It is possible to construct malicious pickle data which will execute arbitrary code during unpickling (See https://github.com/pytorch/pytorch/blob/main/SECURITY.md#untrusted-models for more details). In a future release, the default value for `weights_only` will be flipped to `True`. This limits the functions that could be executed during unpickling. Arbitrary objects will no longer be allowed to be loaded via this mode unless they are explicitly allowlisted by the user via `torch.serialization.add_safe_globals`. We recommend you start setting `weights_only=True` for any use case where you don't have full control of the loaded file. Please open an issue on GitHub for any issues related to this experimental feature.\n",
      "  model.load_state_dict(torch.load('modelo_entrenado.pth'))\n"
     ]
    }
   ],
   "source": [
    "# Crear una nueva instancia del modelo\n",
    "model = ConvNet()  # Usa la misma clase y arquitectura que la original\n",
    "\n",
    "# Cargar los parámetros del modelo entrenado\n",
    "import torch.optim as optim\n",
    "model.load_state_dict(torch.load('modelo_entrenado.pth'))\n",
    "criterion = nn.CrossEntropyLoss()\n",
    "optimizer = optim.Adam(model.parameters(), lr=0.001)"
   ]
  },
  {
   "cell_type": "code",
   "execution_count": null,
   "metadata": {},
   "outputs": [
    {
     "name": "stdout",
     "output_type": "stream",
     "text": [
      "Accuracy of the model on the 10000 test images: 91.38062547673532%\n"
     ]
    }
   ],
   "source": [
    "correct = 0\n",
    "total = 0\n",
    "with torch.no_grad():  # No necesitamos calcular gradientes para la evaluación\n",
    "    for images, labels in test_loader:\n",
    "        outputs = model(images)\n",
    "        _, predicted = torch.max(outputs.data, 1)\n",
    "        total += labels.size(0)\n",
    "        correct += (predicted == labels).sum().item()\n",
    "\n",
    "print(f'Accuracy of the model on the 1000 test images: {100 * correct / total}%')"
   ]
  },
  {
   "cell_type": "markdown",
   "metadata": {},
   "source": [
    "Segundo entrenamiento"
   ]
  },
  {
   "cell_type": "code",
   "execution_count": 15,
   "metadata": {},
   "outputs": [
    {
     "name": "stdout",
     "output_type": "stream",
     "text": [
      "Epoch 1, Loss: 0.07131760312735827\n",
      "Epoch 2, Loss: 0.024409494996588264\n",
      "Epoch 3, Loss: 0.03871911710270474\n",
      "Epoch 4, Loss: 0.033330853973651146\n",
      "Epoch 5, Loss: 0.0191059767058808\n"
     ]
    }
   ],
   "source": [
    "# Entrenamiento\n",
    "epochs = 5\n",
    "for epoch in range(epochs):\n",
    "    running_loss = 0.0\n",
    "    for images, labels in train_loader:\n",
    "        optimizer.zero_grad()  # Limpiamos los gradientes\n",
    "        outputs = model(images)  # Pasamos las imágenes por la red\n",
    "        loss = criterion(outputs, labels)  # Calculamos la pérdida\n",
    "        loss.backward()  # Backpropagation\n",
    "        optimizer.step()  # Actualizamos los pesos\n",
    "        \n",
    "        running_loss += loss.item()\n",
    "    print(f'Epoch {epoch+1}, Loss: {running_loss/len(train_loader)}')"
   ]
  },
  {
   "cell_type": "markdown",
   "metadata": {},
   "source": [
    "Guardamos el modelo con el segundo entrenamiento"
   ]
  },
  {
   "cell_type": "code",
   "execution_count": 16,
   "metadata": {},
   "outputs": [],
   "source": [
    "torch.save(model.state_dict(), 'modelo_entrenado_2.pth')"
   ]
  },
  {
   "cell_type": "code",
   "execution_count": null,
   "metadata": {},
   "outputs": [
    {
     "name": "stdout",
     "output_type": "stream",
     "text": [
      "Accuracy of the model on the 21 test batches: 95.73%\n",
      "\n",
      "Detailed Analysis:\n",
      "Class: notumor\n",
      "  True Positives: 270\n",
      "  False Positives: 10\n",
      "  False Negatives: 30\n",
      "  Sensitivity (Recall): 0.90\n",
      "  Precision: 0.96\n",
      "\n",
      "Class: meningioma\n",
      "  True Positives: 285\n",
      "  False Positives: 30\n",
      "  False Negatives: 21\n",
      "  Sensitivity (Recall): 0.93\n",
      "  Precision: 0.90\n",
      "\n",
      "Class: glioma\n",
      "  True Positives: 404\n",
      "  False Positives: 11\n",
      "  False Negatives: 1\n",
      "  Sensitivity (Recall): 1.00\n",
      "  Precision: 0.97\n",
      "\n",
      "Class: pituitary\n",
      "  True Positives: 296\n",
      "  False Positives: 5\n",
      "  False Negatives: 4\n",
      "  Sensitivity (Recall): 0.99\n",
      "  Precision: 0.98\n",
      "\n"
     ]
    }
   ],
   "source": [
    "from collections import defaultdict\n",
    "\n",
    "# Inicialización de variables\n",
    "correct = 0\n",
    "total = 0\n",
    "contador = 0\n",
    "\n",
    "# Inicialización de contadores por clase\n",
    "class_names = ['notumor', 'meningioma', 'glioma', 'pituitary']\n",
    "true_positives = defaultdict(int)  # TP para cada clase\n",
    "false_positives = defaultdict(int)  # FP para cada clase\n",
    "false_negatives = defaultdict(int)  # FN para cada clase\n",
    "# Cambiar el modelo al modo evaluación\n",
    "model.eval()\n",
    "\n",
    "with torch.no_grad():  # No necesitamos calcular gradientes para la evaluación\n",
    "    for images, labels in test_loader:\n",
    "        outputs = model(images)\n",
    "        _, predicted = torch.max(outputs.data, 1)\n",
    "\n",
    "        total += labels.size(0)\n",
    "        correct += (predicted == labels).sum().item()\n",
    "\n",
    "        # Iterar sobre cada elemento del batch para el análisis detallado\n",
    "        for label, prediction in zip(labels, predicted):\n",
    "            if label == prediction:\n",
    "                true_positives[class_names[label.item()]] += 1\n",
    "            else:\n",
    "                # Falso negativo: la clase real es `label` pero fue clasificada como algo más\n",
    "                false_negatives[class_names[label.item()]] += 1\n",
    "                # Falso positivo: predijo `prediction` incorrectamente\n",
    "                false_positives[class_names[prediction.item()]] += 1\n",
    "\n",
    "        contador += 1\n",
    "\n",
    "# Resultados\n",
    "accuracy = 100 * correct / total\n",
    "print(f'Accuracy of the model on the {contador} test batches: {accuracy:.2f}%')\n",
    "\n",
    "# Reporte detallado\n",
    "print(\"\\nDetailed Analysis:\")\n",
    "for class_name in class_names:\n",
    "    tp = true_positives[class_name]\n",
    "    fp = false_positives[class_name]\n",
    "    fn = false_negatives[class_name]\n",
    "    print(f\"Class: {class_name}\")\n",
    "    print(f\"  True Positives: {tp}\")\n",
    "    print(f\"  False Positives: {fp}\")\n",
    "    print(f\"  False Negatives: {fn}\")\n",
    "    if tp + fn > 0:\n",
    "        print(f\"  Sensitivity (Recall): {tp / (tp + fn):.2f}\")\n",
    "    if tp + fp > 0:\n",
    "        print(f\"  Precision: {tp / (tp + fp):.2f}\")\n",
    "    print()\n"
   ]
  }
 ],
 "metadata": {
  "kernelspec": {
   "display_name": "Python 3",
   "language": "python",
   "name": "python3"
  },
  "language_info": {
   "codemirror_mode": {
    "name": "ipython",
    "version": 3
   },
   "file_extension": ".py",
   "mimetype": "text/x-python",
   "name": "python",
   "nbconvert_exporter": "python",
   "pygments_lexer": "ipython3",
   "version": "3.12.6"
  }
 },
 "nbformat": 4,
 "nbformat_minor": 2
}
